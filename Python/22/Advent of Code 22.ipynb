{
 "cells": [
  {
   "cell_type": "code",
   "execution_count": 14,
   "id": "3edc4de5-d902-40cc-b4ab-2da011d17ce2",
   "metadata": {},
   "outputs": [
    {
     "data": {
      "text/html": [
       "<iframe src=\"https://adventofcode.com/2022/about\" width=\"1600\" height=\"380\"></iframe>\n"
      ],
      "text/plain": [
       "<IPython.core.display.HTML object>"
      ]
     },
     "metadata": {},
     "output_type": "display_data"
    }
   ],
   "source": [
    "%%html\n",
    "<iframe src=\"https://adventofcode.com/2022/about\" width=\"1600\" height=\"380\"></iframe>"
   ]
  },
  {
   "cell_type": "code",
   "execution_count": 19,
   "id": "f3a3ce4d-7897-43ec-8c44-ed4d0771a1c5",
   "metadata": {
    "scrolled": true
   },
   "outputs": [
    {
     "data": {
      "text/html": [
       "<iframe src=\"https://adventofcode.com/2022/day/1\" width=\"1600\" height=\"1600\"></iframe>\n"
      ],
      "text/plain": [
       "<IPython.core.display.HTML object>"
      ]
     },
     "metadata": {},
     "output_type": "display_data"
    }
   ],
   "source": [
    "%%html\n",
    "<iframe src=\"https://adventofcode.com/2022/day/1\" width=\"1600\" height=\"1600\"></iframe>"
   ]
  },
  {
   "cell_type": "code",
   "execution_count": null,
   "id": "092ff43f-1068-4f68-b7a5-1ad715a897c3",
   "metadata": {},
   "outputs": [
    {
     "name": "stdout",
     "output_type": "stream",
     "text": [
      "74198\n",
      "209914\n"
     ]
    }
   ],
   "source": [
    "input = open(\"Day1_Input.txt\", \"r\").read()\n",
    "elf_calories_input_list = input.split(\"\\n\\n\")\n",
    "max_elf_calories =  0\n",
    "elf_total_calories_list = []\n",
    "for elf_calories in elf_calories_input_list:\n",
    "    i = iter(elf_calories.split(\"\\n\"))\n",
    "    elf_total_calories = 0\n",
    "    while (calories := next(i, None)) is not None:\n",
    "        elf_total_calories += int(calories)\n",
    "\n",
    "    elf_total_calories_list.append(elf_total_calories)\n",
    "    if elf_total_calories > max_elf_calories:\n",
    "        max_elf_calories = elf_total_calories\n",
    "\n",
    "#task1\n",
    "print(\"task 1\", max_elf_calories)\n",
    "\n",
    "#task2\n",
    "max_three_elf_calories = 0\n",
    "elf_total_calories_list.sort(reverse=True)\n",
    "max_three_elf_calories += elf_total_calories_list[0]\n",
    "max_three_elf_calories += elf_total_calories_list[1]\n",
    "max_three_elf_calories += elf_total_calories_list[2]\n",
    "\n",
    "\n",
    "print(max_three_elf_calories)\n",
    "\n",
    "    "
   ]
  },
  {
   "cell_type": "code",
   "execution_count": null,
   "id": "0d74f479-aad2-4618-b802-148fe9aa2d5c",
   "metadata": {},
   "outputs": [],
   "source": []
  }
 ],
 "metadata": {
  "kernelspec": {
   "display_name": "Python [conda env:base] *",
   "language": "python",
   "name": "conda-base-py"
  },
  "language_info": {
   "codemirror_mode": {
    "name": "ipython",
    "version": 3
   },
   "file_extension": ".py",
   "mimetype": "text/x-python",
   "name": "python",
   "nbconvert_exporter": "python",
   "pygments_lexer": "ipython3",
   "version": "3.12.7"
  }
 },
 "nbformat": 4,
 "nbformat_minor": 5
}
