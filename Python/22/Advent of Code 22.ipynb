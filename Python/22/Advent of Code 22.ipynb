{
 "cells": [
  {
   "cell_type": "code",
   "execution_count": 1,
   "id": "3edc4de5-d902-40cc-b4ab-2da011d17ce2",
   "metadata": {},
   "outputs": [
    {
     "data": {
      "text/html": [
       "<iframe src=\"https://adventofcode.com/2022/about\" width=\"1600\" height=\"380\"></iframe>\n"
      ],
      "text/plain": [
       "<IPython.core.display.HTML object>"
      ]
     },
     "metadata": {},
     "output_type": "display_data"
    }
   ],
   "source": [
    "%%html\n",
    "<iframe src=\"https://adventofcode.com/2022/about\" width=\"1600\" height=\"380\"></iframe>"
   ]
  },
  {
   "cell_type": "code",
   "execution_count": 2,
   "id": "f3a3ce4d-7897-43ec-8c44-ed4d0771a1c5",
   "metadata": {
    "scrolled": true
   },
   "outputs": [
    {
     "data": {
      "text/html": [
       "<iframe src=\"https://adventofcode.com/2022/day/1\" width=\"1600\" height=\"1600\"></iframe>\n"
      ],
      "text/plain": [
       "<IPython.core.display.HTML object>"
      ]
     },
     "metadata": {},
     "output_type": "display_data"
    }
   ],
   "source": [
    "%%html\n",
    "<iframe src=\"https://adventofcode.com/2022/day/1\" width=\"1600\" height=\"1600\"></iframe>"
   ]
  },
  {
   "cell_type": "code",
   "execution_count": 3,
   "id": "092ff43f-1068-4f68-b7a5-1ad715a897c3",
   "metadata": {},
   "outputs": [
    {
     "name": "stdout",
     "output_type": "stream",
     "text": [
      "task 1: 74198\n",
      "task 2: 209914\n"
     ]
    }
   ],
   "source": [
    "# Read the input file and split by double newlines to separate each elf's calorie list\n",
    "input_data = open(\"Day1_Input.txt\", \"r\").read()\n",
    "elf_calories_raw_list = input_data.split(\"\\n\\n\") # Each item is a string of one elf's calories\n",
    "\n",
    "max_elf_calories = 0\n",
    "elf_total_calories_list = []\n",
    "\n",
    "# Calculate total calories for each elf and find the maximum\n",
    "for elf_calories_str in elf_calories_raw_list:\n",
    "    # Create an iterator for the current elf's calorie entries (each on a new line)\n",
    "    calories_iter = iter(elf_calories_str.split(\"\\n\"))\n",
    "    current_elf_total_calories = 0\n",
    "    # Sum calories for the current elf\n",
    "    while (calories_value := next(calories_iter, None)) is not None:\n",
    "        if calories_value: # Ensure the line is not empty before converting to int\n",
    "            current_elf_total_calories += int(calories_value)\n",
    "\n",
    "    elf_total_calories_list.append(current_elf_total_calories)\n",
    "    # Update the overall maximum if current elf has more\n",
    "    if current_elf_total_calories > max_elf_calories:\n",
    "        max_elf_calories = current_elf_total_calories\n",
    "\n",
    "# --- Task 1 ---\n",
    "# Print the highest calorie count found among all elves\n",
    "print(\"task 1:\", max_elf_calories)\n",
    "\n",
    "# --- Task 2 ---\n",
    "# Find the sum of calories carried by the top three elves\n",
    "sum_top_three_elf_calories = 0\n",
    "elf_total_calories_list.sort(reverse=True) # Sort all elf totals in descending order\n",
    "\n",
    "# Sum the calories of the top three elves\n",
    "# (Assumes there are at least three elves in the list for this direct indexing)\n",
    "sum_top_three_elf_calories += elf_total_calories_list[0]\n",
    "sum_top_three_elf_calories += elf_total_calories_list[1]\n",
    "sum_top_three_elf_calories += elf_total_calories_list[2]\n",
    "\n",
    "print(\"task 2:\", sum_top_three_elf_calories)\n",
    "    "
   ]
  },
  {
   "cell_type": "code",
   "execution_count": 4,
   "id": "0d74f479-aad2-4618-b802-148fe9aa2d5c",
   "metadata": {
    "editable": true,
    "scrolled": true,
    "slideshow": {
     "slide_type": ""
    },
    "tags": []
   },
   "outputs": [
    {
     "data": {
      "text/html": [
       "<iframe src=\"https://adventofcode.com/2022/day/4\" width=\"1600\" height=\"1600\"></iframe>\n"
      ],
      "text/plain": [
       "<IPython.core.display.HTML object>"
      ]
     },
     "metadata": {},
     "output_type": "display_data"
    }
   ],
   "source": [
    "%%html\n",
    "<iframe src=\"https://adventofcode.com/2022/day/4\" width=\"1600\" height=\"1600\"></iframe>"
   ]
  },
  {
   "cell_type": "code",
   "execution_count": 5,
   "id": "1c6c275f-956a-4c97-9253-4a1cfa04ac70",
   "metadata": {
    "editable": true,
    "slideshow": {
     "slide_type": ""
    },
    "tags": []
   },
   "outputs": [
    {
     "name": "stdout",
     "output_type": "stream",
     "text": [
      "task 1: 576\n",
      "task 2: 788\n"
     ]
    }
   ],
   "source": [
    "# Check if one range fully contains another \n",
    "# Returns True if range1 contains range2 OR range2 contains range1\n",
    "def check_range(range1_start, range1_end, range2_start, range2_end):\n",
    "   \n",
    "    if (range1_start <= range2_start) and (range1_end >= range2_end):\n",
    "        return True\n",
    "    if (range2_start <= range1_start) and (range2_end >= range1_end):\n",
    "        return True\n",
    "    return False\n",
    "\n",
    "# Check if one range fully contains another \n",
    "# Returns True if range1 contains range2 OR range2 contains range1\n",
    "def check_range_intersection(range1_start, range1_end, range2_start, range2_end):\n",
    "   \n",
    "    if (range1_start <= range2_start) and (range2_start <= range1_end):\n",
    "        return True\n",
    "    if (range1_start <= range2_end) and (range2_end <= range1_end):\n",
    "        return True\n",
    "    return False\n",
    "\n",
    "# Read and process the input file\n",
    "input_data = open(\"Day4_Input.txt\", \"r\").read()\n",
    "elf_pair_duty_list = input_data.split(\"\\n\") # Split into lines\n",
    "duplicate_assignments = 0 # Counter for fully contained assignments \n",
    "overlapping_assignments = 0 # Counter for the overlapping assignments in task2\n",
    "# Iterate over each pair of elf duties\n",
    "for elf_pair_duty in elf_pair_duty_list:\n",
    "    if not elf_pair_duty: # Skip empty lines\n",
    "        continue\n",
    "    \n",
    "    # Split the line into the two elf assignments\n",
    "    elf_duties = elf_pair_duty.split(\",\")\n",
    "    \n",
    "    # Parse the start and end sections for the first elf\n",
    "    elf1_duty_range = elf_duties[0].split(\"-\")\n",
    "    elf1_duty_start = int(elf1_duty_range[0])\n",
    "    elf1_duty_end = int(elf1_duty_range[1])\n",
    "    \n",
    "    # Parse the start and end sections for the second elf\n",
    "    elf2_duty_range = elf_duties[1].split(\"-\")\n",
    "    elf2_duty_start = int(elf2_duty_range[0])\n",
    "    elf2_duty_end = int(elf2_duty_range[1])\n",
    "\n",
    "    # Check for full containment and update counter\n",
    "    # Pass the correctly named variables to the function\n",
    "    if check_range(elf1_duty_start, elf1_duty_end, elf2_duty_start, elf2_duty_end):\n",
    "        duplicate_assignments +=1\n",
    "    if check_range_intersection(elf1_duty_start, elf1_duty_end, elf2_duty_start, elf2_duty_end):\n",
    "        overlapping_assignments +=1\n",
    "\n",
    "# Print the result\n",
    "print(\"task 1:\", duplicate_assignments)\n",
    "print(\"task 2:\", overlapping_assignments)"
   ]
  },
  {
   "cell_type": "code",
   "execution_count": 7,
   "id": "0df9cf8d-e4fe-48ec-a3a3-73befdb7b8d4",
   "metadata": {},
   "outputs": [
    {
     "data": {
      "text/html": [
       "<iframe src=\"https://adventofcode.com/2022/day/5\" width=\"1600\" height=\"1600\"></iframe>\n"
      ],
      "text/plain": [
       "<IPython.core.display.HTML object>"
      ]
     },
     "metadata": {},
     "output_type": "display_data"
    }
   ],
   "source": [
    "%%html\n",
    "<iframe src=\"https://adventofcode.com/2022/day/5\" width=\"1600\" height=\"1600\"></iframe>"
   ]
  },
  {
   "cell_type": "code",
   "execution_count": 35,
   "id": "6bd018b8-ce5b-4137-8ccd-d766b28789d6",
   "metadata": {
    "editable": true,
    "slideshow": {
     "slide_type": ""
    },
    "tags": []
   },
   "outputs": [
    {
     "name": "stdout",
     "output_type": "stream",
     "text": [
      "Task 1: CVCWCRTVQ\n",
      "\n",
      "Task 2: CNSCZWLVT\n"
     ]
    }
   ],
   "source": [
    "import copy\n",
    "\n",
    "input_data = open(\"Day5_Input.txt\", \"r\").read()\n",
    "data_split = input_data.split(\"\\n\\n\")# split the data to seperate the initial stack and the move data.\n",
    "stack_data = data_split[0].split(\"\\n\")\n",
    "move_data = data_split[1].split(\"\\n\")\n",
    "\n",
    "num_stacks = int(stack_data[-1].strip().split()[-1]) #very fancy python stuff: take the last list entry, strip it of leading and trailing spaces,split it(split without parm splits at whitespace), acces last item with -1 so cool\n",
    "stack_container = [[] for _ in range(num_stacks)] # fancy python stuff to populate the stack container with the stacks\n",
    "\n",
    "for line in reversed(stack_data[:-1]): #iterate the stack data in reverse order and remove the last line of the list where only the stack numbers are.\n",
    "    for stack_nb in range(num_stacks): \n",
    "        stack_content = line[1 + stack_nb * 4] # acess the container char at the position\n",
    "        if stack_content == \" \": # ignore whitespaces \n",
    "            continue\n",
    "        stack_container[stack_nb].append(stack_content) #add to the specific stack\n",
    "\n",
    "stack_container_2 = copy.deepcopy(stack_container) # hardcopy for taks2\n",
    "\n",
    "# --- Function Definitions ---\n",
    "\n",
    "def move_crates(amount, location, destination):\n",
    "    \"\"\"Moves crates one by one, which reverses their order.\"\"\"\n",
    "    for _ in range(amount):\n",
    "        crate = stack_container[location-1].pop()\n",
    "        stack_container[destination-1].append(crate)\n",
    "\n",
    "def move_crates_simultaneously(amount, location, destination): # Typo fixed\n",
    "    \"\"\"Moves crates as a single block, preserving their order.\"\"\"\n",
    "    crates_to_move = []\n",
    "    for _ in range(amount):\n",
    "        crates_to_move.append(stack_container_2[location-1].pop())\n",
    "\n",
    "    for crate in reversed(crates_to_move):\n",
    "        stack_container_2[destination-1].append(crate)\n",
    "\n",
    "# --- Main Processing Loop ---\n",
    "\n",
    "# Iterate through each move instruction.\n",
    "for move in move_data:\n",
    "    move_content = move.split()\n",
    "    amount = int(move_content[1])\n",
    "    start_loc = int(move_content[3])\n",
    "    end_loc = int(move_content[5])\n",
    "    \n",
    "    # Execute the move for the first task(mover 9000).\n",
    "    move_crates(amount, start_loc, end_loc)\n",
    "    # Execute the move for the second task(mover 9001).\n",
    "    move_crates_simultaneously(amount, start_loc, end_loc)\n",
    "\n",
    "# --- Result Calculation ---\n",
    "\n",
    "# Get the top crate from each stack for the task 1 result.\n",
    "result_1 = \"\"\n",
    "for stack in stack_container:\n",
    "    if stack: # Check if stack is not empty\n",
    "        result_1 += stack.pop()\n",
    "\n",
    "print(\"Task 1:\", result_1)\n",
    "\n",
    "# Get the top crate from each stack for the task 2 result.\n",
    "print()\n",
    "result_2 = \"\"\n",
    "for stack in stack_container_2:\n",
    "    result_2 += stack.pop()\n",
    "    \n",
    "print(\"Task 2:\", result_2)"
   ]
  },
  {
   "cell_type": "code",
   "execution_count": null,
   "id": "87a5896a-3a2f-4f6c-9ec6-bff09ae58e3e",
   "metadata": {},
   "outputs": [],
   "source": [
    "Task 1: CVCWCRTVQ\n",
    "\n",
    "Task 2: CNSCZWLVT"
   ]
  }
 ],
 "metadata": {
  "kernelspec": {
   "display_name": "Python 3 (ipykernel)",
   "language": "python",
   "name": "python3"
  },
  "language_info": {
   "codemirror_mode": {
    "name": "ipython",
    "version": 3
   },
   "file_extension": ".py",
   "mimetype": "text/x-python",
   "name": "python",
   "nbconvert_exporter": "python",
   "pygments_lexer": "ipython3",
   "version": "3.12.7"
  }
 },
 "nbformat": 4,
 "nbformat_minor": 5
}
