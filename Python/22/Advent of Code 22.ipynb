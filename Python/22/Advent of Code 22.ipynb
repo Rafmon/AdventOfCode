{
 "cells": [
  {
   "cell_type": "code",
   "execution_count": 23,
   "id": "3edc4de5-d902-40cc-b4ab-2da011d17ce2",
   "metadata": {},
   "outputs": [
    {
     "data": {
      "text/html": [
       "<iframe src=\"https://adventofcode.com/2022/about\" width=\"1600\" height=\"380\"></iframe>\n"
      ],
      "text/plain": [
       "<IPython.core.display.HTML object>"
      ]
     },
     "metadata": {},
     "output_type": "display_data"
    }
   ],
   "source": [
    "%%html\n",
    "<iframe src=\"https://adventofcode.com/2022/about\" width=\"1600\" height=\"380\"></iframe>"
   ]
  },
  {
   "cell_type": "code",
   "execution_count": 22,
   "id": "f3a3ce4d-7897-43ec-8c44-ed4d0771a1c5",
   "metadata": {
    "scrolled": true
   },
   "outputs": [
    {
     "data": {
      "text/html": [
       "<iframe src=\"https://adventofcode.com/2022/day/1\" width=\"1600\" height=\"1600\"></iframe>\n"
      ],
      "text/plain": [
       "<IPython.core.display.HTML object>"
      ]
     },
     "metadata": {},
     "output_type": "display_data"
    }
   ],
   "source": [
    "%%html\n",
    "<iframe src=\"https://adventofcode.com/2022/day/1\" width=\"1600\" height=\"1600\"></iframe>"
   ]
  },
  {
   "cell_type": "code",
   "execution_count": 21,
   "id": "092ff43f-1068-4f68-b7a5-1ad715a897c3",
   "metadata": {},
   "outputs": [
    {
     "name": "stdout",
     "output_type": "stream",
     "text": [
      "task 1: 74198\n",
      "task 2: 209914\n"
     ]
    }
   ],
   "source": [
    "# Read the input file and split by double newlines to separate each elf's calorie list\n",
    "input_data = open(\"Day1_Input.txt\", \"r\").read()\n",
    "elf_calories_raw_list = input_data.split(\"\\n\\n\") # Each item is a string of one elf's calories\n",
    "\n",
    "max_elf_calories = 0\n",
    "elf_total_calories_list = []\n",
    "\n",
    "# Calculate total calories for each elf and find the maximum\n",
    "for elf_calories_str in elf_calories_raw_list:\n",
    "    # Create an iterator for the current elf's calorie entries (each on a new line)\n",
    "    calories_iter = iter(elf_calories_str.split(\"\\n\"))\n",
    "    current_elf_total_calories = 0\n",
    "    # Sum calories for the current elf\n",
    "    while (calories_value := next(calories_iter, None)) is not None:\n",
    "        if calories_value: # Ensure the line is not empty before converting to int\n",
    "            current_elf_total_calories += int(calories_value)\n",
    "\n",
    "    elf_total_calories_list.append(current_elf_total_calories)\n",
    "    # Update the overall maximum if current elf has more\n",
    "    if current_elf_total_calories > max_elf_calories:\n",
    "        max_elf_calories = current_elf_total_calories\n",
    "\n",
    "# --- Task 1 ---\n",
    "# Print the highest calorie count found among all elves\n",
    "print(\"task 1:\", max_elf_calories)\n",
    "\n",
    "# --- Task 2 ---\n",
    "# Find the sum of calories carried by the top three elves\n",
    "sum_top_three_elf_calories = 0\n",
    "elf_total_calories_list.sort(reverse=True) # Sort all elf totals in descending order\n",
    "\n",
    "# Sum the calories of the top three elves\n",
    "# (Assumes there are at least three elves in the list for this direct indexing)\n",
    "sum_top_three_elf_calories += elf_total_calories_list[0]\n",
    "sum_top_three_elf_calories += elf_total_calories_list[1]\n",
    "sum_top_three_elf_calories += elf_total_calories_list[2]\n",
    "\n",
    "print(\"task 2:\", sum_top_three_elf_calories)\n",
    "    "
   ]
  },
  {
   "cell_type": "code",
   "execution_count": 24,
   "id": "0d74f479-aad2-4618-b802-148fe9aa2d5c",
   "metadata": {
    "editable": true,
    "scrolled": true,
    "slideshow": {
     "slide_type": ""
    },
    "tags": []
   },
   "outputs": [
    {
     "data": {
      "text/html": [
       "<iframe src=\"https://adventofcode.com/2022/day/4\" width=\"1600\" height=\"1600\"></iframe>\n"
      ],
      "text/plain": [
       "<IPython.core.display.HTML object>"
      ]
     },
     "metadata": {},
     "output_type": "display_data"
    }
   ],
   "source": [
    "%%html\n",
    "<iframe src=\"https://adventofcode.com/2022/day/4\" width=\"1600\" height=\"1600\"></iframe>"
   ]
  },
  {
   "cell_type": "code",
   "execution_count": 15,
   "id": "1c6c275f-956a-4c97-9253-4a1cfa04ac70",
   "metadata": {
    "editable": true,
    "slideshow": {
     "slide_type": ""
    },
    "tags": []
   },
   "outputs": [
    {
     "name": "stdout",
     "output_type": "stream",
     "text": [
      "task 1: 576\n",
      "task 2: 905\n"
     ]
    }
   ],
   "source": [
    "# Check if one range fully contains another \n",
    "# Returns True if range1 contains range2 OR range2 contains range1\n",
    "def check_range(range1_start, range1_end, range2_start, range2_end):\n",
    "   \n",
    "    if (range1_start <= range2_start) and (range1_end >= range2_end):\n",
    "        return True\n",
    "    if (range2_start <= range1_start) and (range2_end >= range1_end):\n",
    "        return True\n",
    "    return False\n",
    "\n",
    "# Check if one range contains any part of another \n",
    "# Returns True if range1 any part of range2 OR range2 contains any of range1\n",
    "def check_range_intersection(range1_start, range1_end, range2_start, range2_end):\n",
    "   \n",
    "    if (range1_start <= range2_start) and (range2_start <= range1_end):\n",
    "        return True\n",
    "    if (range1_start <= range2_end) and (range2_end <= range1_end):\n",
    "        return True\n",
    "    if (range2_start <= range1_start) and (range1_start <= range2_end):\n",
    "        return True\n",
    "    if (range2_start <= range1_end) and (range1_end <= range2_end):\n",
    "        return True\n",
    "    \n",
    "    return False\n",
    "\n",
    "# Read and process the input file\n",
    "input_data = open(\"Day4_Input.txt\", \"r\").read()\n",
    "elf_pair_duty_list = input_data.split(\"\\n\") # Split into lines\n",
    "duplicate_assignments = 0 # Counter for fully contained assignments \n",
    "overlapping_assignments = 0 # Counter for the overlapping assignments in task2\n",
    "# Iterate over each pair of elf duties\n",
    "for elf_pair_duty in elf_pair_duty_list:\n",
    "    if not elf_pair_duty: # Skip empty lines\n",
    "        continue\n",
    "    \n",
    "    # Split the line into the two elf assignments\n",
    "    elf_duties = elf_pair_duty.split(\",\")\n",
    "    \n",
    "    # Parse the start and end sections for the first elf\n",
    "    elf1_duty_range = elf_duties[0].split(\"-\")\n",
    "    elf1_duty_start = int(elf1_duty_range[0])\n",
    "    elf1_duty_end = int(elf1_duty_range[1])\n",
    "    \n",
    "    # Parse the start and end sections for the second elf\n",
    "    elf2_duty_range = elf_duties[1].split(\"-\")\n",
    "    elf2_duty_start = int(elf2_duty_range[0])\n",
    "    elf2_duty_end = int(elf2_duty_range[1])\n",
    "\n",
    "    # Check for full containment and update counter\n",
    "    # Pass the correctly named variables to the function\n",
    "    if check_range(elf1_duty_start, elf1_duty_end, elf2_duty_start, elf2_duty_end):\n",
    "        duplicate_assignments +=1\n",
    "    if check_range_intersection(elf1_duty_start, elf1_duty_end, elf2_duty_start, elf2_duty_end):\n",
    "        overlapping_assignments +=1\n",
    "\n",
    "# Print the result\n",
    "print(\"task 1:\", duplicate_assignments)\n",
    "print(\"task 2:\", overlapping_assignments)"
   ]
  },
  {
   "cell_type": "code",
   "execution_count": null,
   "id": "6bd018b8-ce5b-4137-8ccd-d766b28789d6",
   "metadata": {},
   "outputs": [],
   "source": []
  }
 ],
 "metadata": {
  "kernelspec": {
   "display_name": "Python 3 (ipykernel)",
   "language": "python",
   "name": "python3"
  },
  "language_info": {
   "codemirror_mode": {
    "name": "ipython",
    "version": 3
   },
   "file_extension": ".py",
   "mimetype": "text/x-python",
   "name": "python",
   "nbconvert_exporter": "python",
   "pygments_lexer": "ipython3",
   "version": "3.12.7"
  }
 },
 "nbformat": 4,
 "nbformat_minor": 5
}
